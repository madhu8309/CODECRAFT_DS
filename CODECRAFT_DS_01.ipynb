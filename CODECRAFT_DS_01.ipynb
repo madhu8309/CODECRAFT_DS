{
 "cells": [
  {
   "cell_type": "code",
   "execution_count": 1,
   "id": "64bbcebc-4aad-4a6b-99d6-aa63293c79bf",
   "metadata": {},
   "outputs": [
    {
     "data": {
      "text/html": [
       "<div>\n",
       "<style scoped>\n",
       "    .dataframe tbody tr th:only-of-type {\n",
       "        vertical-align: middle;\n",
       "    }\n",
       "\n",
       "    .dataframe tbody tr th {\n",
       "        vertical-align: top;\n",
       "    }\n",
       "\n",
       "    .dataframe thead th {\n",
       "        text-align: right;\n",
       "    }\n",
       "</style>\n",
       "<table border=\"1\" class=\"dataframe\">\n",
       "  <thead>\n",
       "    <tr style=\"text-align: right;\">\n",
       "      <th></th>\n",
       "      <th>INDICATOR_CODE</th>\n",
       "      <th>INDICATOR_NAME</th>\n",
       "      <th>SOURCE_NOTE</th>\n",
       "      <th>SOURCE_ORGANIZATION</th>\n",
       "      <th>Unnamed: 4</th>\n",
       "    </tr>\n",
       "  </thead>\n",
       "  <tbody>\n",
       "    <tr>\n",
       "      <th>0</th>\n",
       "      <td>SP.POP.TOTL</td>\n",
       "      <td>Population, total</td>\n",
       "      <td>Total population is based on the de facto defi...</td>\n",
       "      <td>(1) United Nations Population Division. World ...</td>\n",
       "      <td>NaN</td>\n",
       "    </tr>\n",
       "  </tbody>\n",
       "</table>\n",
       "</div>"
      ],
      "text/plain": [
       "  INDICATOR_CODE     INDICATOR_NAME  \\\n",
       "0    SP.POP.TOTL  Population, total   \n",
       "\n",
       "                                         SOURCE_NOTE  \\\n",
       "0  Total population is based on the de facto defi...   \n",
       "\n",
       "                                 SOURCE_ORGANIZATION  Unnamed: 4  \n",
       "0  (1) United Nations Population Division. World ...         NaN  "
      ]
     },
     "execution_count": 1,
     "metadata": {},
     "output_type": "execute_result"
    }
   ],
   "source": [
    "# To read data we use pandas-first we import pandas\n",
    "import pandas as pd \n",
    "df=pd.read_csv(\"Metadata_Indicator.csv\")\n",
    "# To print head of the data \n",
    "df.head()"
   ]
  },
  {
   "cell_type": "code",
   "execution_count": 2,
   "id": "434fe9ad-2fa7-4b15-8621-79e2ab50650b",
   "metadata": {},
   "outputs": [
    {
     "name": "stdout",
     "output_type": "stream",
     "text": [
      "<class 'pandas.core.frame.DataFrame'>\n",
      "RangeIndex: 1 entries, 0 to 0\n",
      "Data columns (total 5 columns):\n",
      " #   Column               Non-Null Count  Dtype  \n",
      "---  ------               --------------  -----  \n",
      " 0   INDICATOR_CODE       1 non-null      object \n",
      " 1   INDICATOR_NAME       1 non-null      object \n",
      " 2   SOURCE_NOTE          1 non-null      object \n",
      " 3   SOURCE_ORGANIZATION  1 non-null      object \n",
      " 4   Unnamed: 4           0 non-null      float64\n",
      "dtypes: float64(1), object(4)\n",
      "memory usage: 172.0+ bytes\n"
     ]
    }
   ],
   "source": [
    "df.info() #to find the information of the data\n",
    "#note: in the output under Dtype object means stat"
   ]
  },
  {
   "cell_type": "code",
   "execution_count": 3,
   "id": "d81747af-697e-4d5a-9c3a-bf0e7be860a6",
   "metadata": {},
   "outputs": [
    {
     "data": {
      "text/plain": [
       "(1, 5)"
      ]
     },
     "execution_count": 3,
     "metadata": {},
     "output_type": "execute_result"
    }
   ],
   "source": [
    "df.shape # to find the shape (rows,columns)of the dataset"
   ]
  },
  {
   "cell_type": "code",
   "execution_count": 4,
   "id": "40d4bb8b-3f38-4f14-8f7e-a6c93549e548",
   "metadata": {},
   "outputs": [
    {
     "data": {
      "text/plain": [
       "False    1\n",
       "Name: count, dtype: int64"
      ]
     },
     "execution_count": 4,
     "metadata": {},
     "output_type": "execute_result"
    }
   ],
   "source": [
    "df.duplicated().value_counts()"
   ]
  },
  {
   "cell_type": "code",
   "execution_count": 5,
   "id": "f75620ac-2cef-4750-b1b9-22175ef730c0",
   "metadata": {},
   "outputs": [
    {
     "data": {
      "text/plain": [
       "False    1\n",
       "Name: count, dtype: int64"
      ]
     },
     "execution_count": 5,
     "metadata": {},
     "output_type": "execute_result"
    }
   ],
   "source": [
    "df=df.drop_duplicates()\n",
    "df.duplicated().value_counts()"
   ]
  },
  {
   "cell_type": "code",
   "execution_count": 6,
   "id": "e0827f14-60c3-4ebf-9614-a54f8792df26",
   "metadata": {},
   "outputs": [
    {
     "data": {
      "text/html": [
       "<div>\n",
       "<style scoped>\n",
       "    .dataframe tbody tr th:only-of-type {\n",
       "        vertical-align: middle;\n",
       "    }\n",
       "\n",
       "    .dataframe tbody tr th {\n",
       "        vertical-align: top;\n",
       "    }\n",
       "\n",
       "    .dataframe thead th {\n",
       "        text-align: right;\n",
       "    }\n",
       "</style>\n",
       "<table border=\"1\" class=\"dataframe\">\n",
       "  <thead>\n",
       "    <tr style=\"text-align: right;\">\n",
       "      <th></th>\n",
       "      <th>Unnamed: 4</th>\n",
       "    </tr>\n",
       "  </thead>\n",
       "  <tbody>\n",
       "    <tr>\n",
       "      <th>count</th>\n",
       "      <td>0.0</td>\n",
       "    </tr>\n",
       "    <tr>\n",
       "      <th>mean</th>\n",
       "      <td>NaN</td>\n",
       "    </tr>\n",
       "    <tr>\n",
       "      <th>std</th>\n",
       "      <td>NaN</td>\n",
       "    </tr>\n",
       "    <tr>\n",
       "      <th>min</th>\n",
       "      <td>NaN</td>\n",
       "    </tr>\n",
       "    <tr>\n",
       "      <th>25%</th>\n",
       "      <td>NaN</td>\n",
       "    </tr>\n",
       "    <tr>\n",
       "      <th>50%</th>\n",
       "      <td>NaN</td>\n",
       "    </tr>\n",
       "    <tr>\n",
       "      <th>75%</th>\n",
       "      <td>NaN</td>\n",
       "    </tr>\n",
       "    <tr>\n",
       "      <th>max</th>\n",
       "      <td>NaN</td>\n",
       "    </tr>\n",
       "  </tbody>\n",
       "</table>\n",
       "</div>"
      ],
      "text/plain": [
       "       Unnamed: 4\n",
       "count         0.0\n",
       "mean          NaN\n",
       "std           NaN\n",
       "min           NaN\n",
       "25%           NaN\n",
       "50%           NaN\n",
       "75%           NaN\n",
       "max           NaN"
      ]
     },
     "execution_count": 6,
     "metadata": {},
     "output_type": "execute_result"
    }
   ],
   "source": [
    "# To find basic stats of the data \n",
    "df.describe()\n",
    "# NOTE: when we use df.describe() it will give stats for only nuerical columns, it wont give for categorical columns."
   ]
  },
  {
   "cell_type": "code",
   "execution_count": 7,
   "id": "c953edcd-3601-4acc-b876-0fc11f5d7c86",
   "metadata": {},
   "outputs": [
    {
     "data": {
      "text/plain": [
       "INDICATOR_CODE         0\n",
       "INDICATOR_NAME         0\n",
       "SOURCE_NOTE            0\n",
       "SOURCE_ORGANIZATION    0\n",
       "Unnamed: 4             1\n",
       "dtype: int64"
      ]
     },
     "execution_count": 7,
     "metadata": {},
     "output_type": "execute_result"
    }
   ],
   "source": [
    "# To find the number of missing values in every column\n",
    "df.isnull().sum()"
   ]
  },
  {
   "cell_type": "code",
   "execution_count": 8,
   "id": "a1bc5229-a2d6-4265-90ab-fc231682970d",
   "metadata": {},
   "outputs": [
    {
     "data": {
      "text/plain": [
       "INDICATOR_CODE           0.0\n",
       "INDICATOR_NAME           0.0\n",
       "SOURCE_NOTE              0.0\n",
       "SOURCE_ORGANIZATION      0.0\n",
       "Unnamed: 4             100.0\n",
       "dtype: float64"
      ]
     },
     "execution_count": 8,
     "metadata": {},
     "output_type": "execute_result"
    }
   ],
   "source": [
    "# To find the missing values in every column in percentage.\n",
    "df.isnull().sum()/len(df)*100"
   ]
  },
  {
   "cell_type": "code",
   "execution_count": 10,
   "id": "be48a1a5-98ed-49e1-90ac-c231cd0a8341",
   "metadata": {},
   "outputs": [
    {
     "data": {
      "text/html": [
       "<div>\n",
       "<style scoped>\n",
       "    .dataframe tbody tr th:only-of-type {\n",
       "        vertical-align: middle;\n",
       "    }\n",
       "\n",
       "    .dataframe tbody tr th {\n",
       "        vertical-align: top;\n",
       "    }\n",
       "\n",
       "    .dataframe thead th {\n",
       "        text-align: right;\n",
       "    }\n",
       "</style>\n",
       "<table border=\"1\" class=\"dataframe\">\n",
       "  <thead>\n",
       "    <tr style=\"text-align: right;\">\n",
       "      <th></th>\n",
       "      <th>INDICATOR_CODE</th>\n",
       "      <th>INDICATOR_NAME</th>\n",
       "      <th>SOURCE_NOTE</th>\n",
       "      <th>SOURCE_ORGANIZATION</th>\n",
       "    </tr>\n",
       "  </thead>\n",
       "  <tbody>\n",
       "    <tr>\n",
       "      <th>count</th>\n",
       "      <td>1</td>\n",
       "      <td>1</td>\n",
       "      <td>1</td>\n",
       "      <td>1</td>\n",
       "    </tr>\n",
       "    <tr>\n",
       "      <th>unique</th>\n",
       "      <td>1</td>\n",
       "      <td>1</td>\n",
       "      <td>1</td>\n",
       "      <td>1</td>\n",
       "    </tr>\n",
       "    <tr>\n",
       "      <th>top</th>\n",
       "      <td>SP.POP.TOTL</td>\n",
       "      <td>Population, total</td>\n",
       "      <td>Total population is based on the de facto defi...</td>\n",
       "      <td>(1) United Nations Population Division. World ...</td>\n",
       "    </tr>\n",
       "    <tr>\n",
       "      <th>freq</th>\n",
       "      <td>1</td>\n",
       "      <td>1</td>\n",
       "      <td>1</td>\n",
       "      <td>1</td>\n",
       "    </tr>\n",
       "  </tbody>\n",
       "</table>\n",
       "</div>"
      ],
      "text/plain": [
       "       INDICATOR_CODE     INDICATOR_NAME  \\\n",
       "count               1                  1   \n",
       "unique              1                  1   \n",
       "top       SP.POP.TOTL  Population, total   \n",
       "freq                1                  1   \n",
       "\n",
       "                                              SOURCE_NOTE  \\\n",
       "count                                                   1   \n",
       "unique                                                  1   \n",
       "top     Total population is based on the de facto defi...   \n",
       "freq                                                    1   \n",
       "\n",
       "                                      SOURCE_ORGANIZATION  \n",
       "count                                                   1  \n",
       "unique                                                  1  \n",
       "top     (1) United Nations Population Division. World ...  \n",
       "freq                                                    1  "
      ]
     },
     "execution_count": 10,
     "metadata": {},
     "output_type": "execute_result"
    }
   ],
   "source": [
    "# To find basic stats for only categorical column\n",
    "df.describe(include='object')"
   ]
  },
  {
   "cell_type": "markdown",
   "id": "3d11d4f1-b354-42ca-8e33-7f229c21b2f1",
   "metadata": {},
   "source": [
    "#### Here is a bar chart showing the population distribution of the top 10 most populous countries in 2023. The code used:\n",
    "\n",
    "#### Defines population data for 10 countries.\n",
    "\n",
    "#### Creates a Pandas DataFrame.\n",
    "\n",
    "#### Uses Matplotlib to plot a bar chart with country names on the x-axis and population on the y-axis."
   ]
  },
  {
   "cell_type": "code",
   "execution_count": 11,
   "id": "0ebb0d52-90e0-47f5-b985-67a4fde30fa8",
   "metadata": {},
   "outputs": [
    {
     "data": {
      "image/png": "[encoded data removed]",
      "text/plain": [
       "<Figure size 1200x600 with 1 Axes>"
      ]
     },
     "metadata": {},
     "output_type": "display_data"
    }
   ],
   "source": [
    "import pandas as pd\n",
    "import matplotlib.pyplot as plt\n",
    "\n",
    "# Simulate population data for the top 10 most populous countries\n",
    "data = {\n",
    "    \"Country\": [\n",
    "        \"China\", \"India\", \"United States\", \"Indonesia\", \"Pakistan\", \n",
    "        \"Nigeria\", \"Brazil\", \"Bangladesh\", \"Russia\", \"Mexico\"\n",
    "    ],\n",
    "    \"Population\": [\n",
    "        1411778724, 1407563842, 339996563, 277534122, 240485658,\n",
    "        223804632, 216422446, 172452924, 144373535, 132328035\n",
    "    ]\n",
    "}\n",
    "\n",
    "# Create a DataFrame\n",
    "df = pd.DataFrame(data)\n",
    "\n",
    "# Plot a bar chart\n",
    "plt.figure(figsize=(12, 6))\n",
    "plt.bar(df[\"Country\"], df[\"Population\"], color=\"skyblue\")\n",
    "plt.xlabel(\"Country\")\n",
    "plt.ylabel(\"Population\")\n",
    "plt.title(\"Top 10 Most Populous Countries (2023)\")\n",
    "plt.xticks(rotation=45)\n",
    "plt.tight_layout()\n",
    "\n",
    "# Display the plot\n",
    "plt.show()\n"
   ]
  }
 ],
 "metadata": {
  "kernelspec": {
   "display_name": "Python 3 (ipykernel)",
   "language": "python",
   "name": "python3"
  },
  "language_info": {
   "codemirror_mode": {
    "name": "ipython",
    "version": 3
   },
   "file_extension": ".py",
   "mimetype": "text/x-python",
   "name": "python",
   "nbconvert_exporter": "python",
   "pygments_lexer": "ipython3",
   "version": "3.11.7"
  }
 },
 "nbformat": 4,
 "nbformat_minor": 5
}
